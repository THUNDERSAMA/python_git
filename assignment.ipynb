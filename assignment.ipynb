{
  "nbformat": 4,
  "nbformat_minor": 0,
  "metadata": {
    "colab": {
      "provenance": [],
      "authorship_tag": "ABX9TyPYy4Mg8RS1YGZn9RSI860c",
      "include_colab_link": true
    },
    "kernelspec": {
      "name": "python3",
      "display_name": "Python 3"
    },
    "language_info": {
      "name": "python"
    }
  },
  "cells": [
    {
      "cell_type": "markdown",
      "metadata": {
        "id": "view-in-github",
        "colab_type": "text"
      },
      "source": [
        "<a href=\"https://colab.research.google.com/github/THUNDERSAMA/python_git/blob/main/assignment.ipynb\" target=\"_parent\"><img src=\"https://colab.research.google.com/assets/colab-badge.svg\" alt=\"Open In Colab\"/></a>"
      ]
    },
    {
      "cell_type": "code",
      "source": [
        "import pandas as pd\n",
        "\n",
        "df = pd.read_excel(\"Assignment_Timecard.xlsx\")\n",
        "\n",
        "df['Time'] = pd.to_datetime(df['Time'])\n",
        "df['Time Out'] = pd.to_datetime(df['Time Out'])\n",
        "\n",
        "df['Timecard Hours (as Time)'] = df['Time Out'] - df['Time']\n",
        "\n",
        "df['Timecard Hours (as Hours)'] = df['Timecard Hours (as Time)'].dt.total_seconds() / 3600\n",
        "\n",
        "consecutive_days = df.groupby((df['Employee Name'] != df['Employee Name'].shift()).cumsum()).filter(lambda x: len(x) >= 7)\n",
        "\n",
        "shift_duration = df.groupby('Employee Name')['Timecard Hours (as Hours)'].apply(lambda x: x.diff().gt(1).cumsum().where(x.diff().gt(9), 0).cumsum())\n",
        "shifts = df.loc[shift_duration.gt(0)]\n",
        "\n",
        "long_shifts = df[df['Timecard Hours (as Hours)'] > 14]\n",
        "\n",
        "print(\"Employees who have worked for 7 consecutive days:\")\n",
        "print(consecutive_days[['Employee Name', 'Position Status']])\n",
        "print(\"\\nEmployees who have less than 10 hours of time between shifts but greater than 1 hour:\")\n",
        "print(shifts[['Employee Name', 'Position Status']])\n",
        "print(\"\\nEmployees who have worked for more than 14 hours in a single shift:\")\n",
        "print(long_shifts[['Employee Name', 'Position Status']])"
      ],
      "metadata": {
        "colab": {
          "base_uri": "https://localhost:8080/"
        },
        "id": "w8aaMCjgLbXX",
        "outputId": "879bd2a3-77a4-464e-9e2a-2ad1ac8a58b8"
      },
      "execution_count": 4,
      "outputs": [
        {
          "output_type": "stream",
          "name": "stdout",
          "text": [
            "Employees who have worked for 7 consecutive days:\n",
            "        Employee Name Position Status\n",
            "1     REsaXiaWE, XAis          Active\n",
            "2     REsaXiaWE, XAis          Active\n",
            "3     REsaXiaWE, XAis          Active\n",
            "4     REsaXiaWE, XAis          Active\n",
            "5     REsaXiaWE, XAis          Active\n",
            "...               ...             ...\n",
            "1478  WgAyeW, RayCEWd          Active\n",
            "1479  WgAyeW, RayCEWd          Active\n",
            "1480  WgAyeW, RayCEWd          Active\n",
            "1481  WgAyeW, RayCEWd          Active\n",
            "1482  WgAyeW, RayCEWd          Active\n",
            "\n",
            "[1459 rows x 2 columns]\n",
            "\n",
            "Employees who have less than 10 hours of time between shifts but greater than 1 hour:\n",
            "                        Employee Name Position Status\n",
            "38                    Sparks, KeWWeMh          Active\n",
            "39                    Sparks, KeWWeMh          Active\n",
            "1036  DeXgadiXXE REdarMe, ChrisMiaW S          Active\n",
            "1037  DeXgadiXXE REdarMe, ChrisMiaW S          Active\n",
            "1038  DeXgadiXXE REdarMe, ChrisMiaW S          Active\n",
            "1039  DeXgadiXXE REdarMe, ChrisMiaW S          Active\n",
            "1040  DeXgadiXXE REdarMe, ChrisMiaW S          Active\n",
            "1041  DeXgadiXXE REdarMe, ChrisMiaW S          Active\n",
            "1042  DeXgadiXXE REdarMe, ChrisMiaW S          Active\n",
            "1043  DeXgadiXXE REdarMe, ChrisMiaW S          Active\n",
            "\n",
            "Employees who have worked for more than 14 hours in a single shift:\n",
            "                        Employee Name Position Status\n",
            "1036  DeXgadiXXE REdarMe, ChrisMiaW S          Active\n"
          ]
        },
       
      ]
    }
  ]
}
